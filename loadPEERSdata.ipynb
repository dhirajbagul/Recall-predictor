{
 "cells": [
  {
   "cell_type": "code",
   "execution_count": 50,
   "metadata": {},
   "outputs": [],
   "source": [
    "import numpy as np\n",
    "import helper_functions as functions\n",
    "import pandas as pd"
   ]
  },
  {
   "cell_type": "code",
   "execution_count": 5,
   "metadata": {},
   "outputs": [],
   "source": [
    "# Convert raw dataset\n",
    "recalls, recalls_sp, listlengths, sessionlengths, subjects, subjs, presented_words, recalled_words, presents = functions.load_data2()"
   ]
  },
  {
   "cell_type": "code",
   "execution_count": 6,
   "metadata": {},
   "outputs": [
    {
     "name": "stdout",
     "output_type": "stream",
     "text": [
      "There are in total 17369 study trials.\n",
      "There are in total 17341 recall trials.\n"
     ]
    }
   ],
   "source": [
    "# Note that not every study trial has a correponding recall trial.\n",
    "print(\"There are in total {} study trials.\".format(len(presents)))\n",
    "print(\"There are in total {} recall trials.\".format(len(recalls)))"
   ]
  },
  {
   "cell_type": "code",
   "execution_count": 12,
   "metadata": {},
   "outputs": [
    {
     "name": "stdout",
     "output_type": "stream",
     "text": [
      "For list 100, there are 16 items studied:\n",
      "[subject index, session index, word index, list index, serial position, actual word]\n"
     ]
    },
    {
     "data": {
      "text/plain": [
       "[[64, 1, 202, 4, 0, 'BUSH'],\n",
       " [64, 1, 1092, 4, 1, 'PLUTO'],\n",
       " [64, 1, 1037, 4, 2, 'PEDAL'],\n",
       " [64, 1, 1601, 4, 3, 'WHALE'],\n",
       " [64, 1, 483, 4, 4, 'DOLPHIN'],\n",
       " [64, 1, 943, 4, 5, 'NEPTUNE'],\n",
       " [64, 1, 832, 4, 6, 'LITTER'],\n",
       " [64, 1, 1610, 4, 7, 'WILDERNESS'],\n",
       " [64, 1, 884, 4, 8, 'MECHANIC'],\n",
       " [64, 1, 1043, 4, 9, 'PENDULUM'],\n",
       " [64, 1, 692, 4, 10, 'HAWK'],\n",
       " [64, 1, 129, 4, 11, 'BIRD'],\n",
       " [64, 1, 1308, 4, 12, 'SILVERWARE'],\n",
       " [64, 1, 1190, 4, 13, 'RICE'],\n",
       " [64, 1, 1266, 4, 14, 'SEED'],\n",
       " [64, 1, 1039, 4, 15, 'PELICAN']]"
      ]
     },
     "execution_count": 12,
     "metadata": {},
     "output_type": "execute_result"
    }
   ],
   "source": [
    "print(\"For list 100, there are 16 items studied:\")\n",
    "print(\"[subject index, session index, word index, list index, serial position, actual word]\")\n",
    "presents[100]"
   ]
  },
  {
   "cell_type": "code",
   "execution_count": 10,
   "metadata": {},
   "outputs": [
    {
     "name": "stdout",
     "output_type": "stream",
     "text": [
      "One can use [subject index, session index, list index] to uniquely map the correponding study trial for a given recall trial\n",
      "-1 means that the word is outside the wordpool\n",
      "sometimes a word from a different list is recalled - see PANTS\n"
     ]
    },
    {
     "data": {
      "text/plain": [
       "[[121, 2, 1323, 8, 15, 'SLACKS'],\n",
       " [121, 2, 568, 8, 14, 'FINGERNAIL'],\n",
       " [121, 2, 1462, 8, 6, 'THUMB'],\n",
       " [121, 2, 508, 8, 2, 'DUST'],\n",
       " [121, 2, 442, 8, 12, 'DAUGHTER'],\n",
       " [121, 2, 1312, 8, 9, 'SISTER'],\n",
       " [121, 2, 1052, 8, 16, 'PERSON'],\n",
       " [121, 2, 59, 8, 1, 'AUDIENCE'],\n",
       " [121, 2, 297, 8, 7, 'CHICKEN'],\n",
       " [121, 2, 296, 8, 8, 'CHICK']]"
      ]
     },
     "execution_count": 10,
     "metadata": {},
     "output_type": "execute_result"
    }
   ],
   "source": [
    "print(\"One can use [subject index, session index, list index] to uniquely map the correponding study trial for a given recall trial\")\n",
    "print(\"-1 means that the word is outside the wordpool\")\n",
    "print(\"sometimes a word from a different list is recalled - see PANTS\" )\n",
    "recalls[5000]"
   ]
  },
  {
   "cell_type": "code",
   "execution_count": 14,
   "metadata": {
    "scrolled": true
   },
   "outputs": [
    {
     "name": "stdout",
     "output_type": "stream",
     "text": [
      "For list 100, there are 16 items studied:\n",
      "[subject index, session index, word index, list index, serial position, actual word]\n"
     ]
    },
    {
     "data": {
      "text/plain": [
       "[[174, 1, 1409, 3, 0, 'SUPERMARKET'],\n",
       " [174, 1, 373, 3, 1, 'COOKBOOK'],\n",
       " [174, 1, 1428, 3, 2, 'TACK'],\n",
       " [174, 1, 1393, 3, 3, 'STREET'],\n",
       " [174, 1, 125, 3, 4, 'BIKE'],\n",
       " [174, 1, 1588, 3, 5, 'WAREHOUSE'],\n",
       " [174, 1, 1465, 3, 6, 'TIDE'],\n",
       " [174, 1, 576, 3, 7, 'FLASK'],\n",
       " [174, 1, 901, 3, 8, 'MISTER'],\n",
       " [174, 1, 211, 3, 9, 'CABIN'],\n",
       " [174, 1, 1153, 3, 10, 'RACCOON'],\n",
       " [174, 1, 1416, 3, 11, 'SWAMP'],\n",
       " [174, 1, 876, 3, 12, 'MASK'],\n",
       " [174, 1, 602, 3, 13, 'FRECKLE'],\n",
       " [174, 1, 104, 3, 14, 'BEAKER'],\n",
       " [174, 1, 98, 3, 15, 'BATH']]"
      ]
     },
     "execution_count": 14,
     "metadata": {},
     "output_type": "execute_result"
    }
   ],
   "source": [
    "print(\"For list 100, there are 16 items studied:\")\n",
    "print(\"[subject index, session index, word index, list index, serial position, actual word]\")\n",
    "presents[8500]\n"
   ]
  },
  {
   "cell_type": "code",
   "execution_count": 16,
   "metadata": {},
   "outputs": [
    {
     "name": "stdout",
     "output_type": "stream",
     "text": [
      "One can use [subject index, session index, list index] to uniquely map the correponding study trial for a given recall trial\n",
      "-1 means that the word is outside the wordpool\n",
      "sometimes a word from a different list is recalled - see PANTS\n"
     ]
    },
    {
     "data": {
      "text/plain": [
       "[[174, 1, 735, 7, 15, 'INCENSE'],\n",
       " [174, 1, 1570, 7, 14, 'VIOLA'],\n",
       " [174, 1, 362, 7, 4, 'CONDUCTOR'],\n",
       " [174, 1, 623, 7, 10, 'GARDEN'],\n",
       " [174, 1, 438, 7, 11, 'DANDELION'],\n",
       " [174, 1, 1194, 7, 7, 'RIVER'],\n",
       " [174, 1, 1594, 7, 6, 'WATER'],\n",
       " [174, 1, 874, 7, 8, 'MARSH'],\n",
       " [174, 1, 1241, 7, 9, 'SCALE'],\n",
       " [174, 1, 109, 7, 13, 'BEAVER'],\n",
       " [174, 1, 1321, 7, 12, 'SKUNK'],\n",
       " [174, 1, 1281, 7, 2, 'SHELL'],\n",
       " [174, 1, 1143, 7, 3, 'PUPIL']]"
      ]
     },
     "execution_count": 16,
     "metadata": {},
     "output_type": "execute_result"
    }
   ],
   "source": [
    "print(\"One can use [subject index, session index, list index] to uniquely map the correponding study trial for a given recall trial\")\n",
    "print(\"-1 means that the word is outside the wordpool\")\n",
    "print(\"sometimes a word from a different list is recalled - see PANTS\" )\n",
    "recalls[8500]"
   ]
  },
  {
   "cell_type": "code",
   "execution_count": 29,
   "metadata": {},
   "outputs": [
    {
     "data": {
      "text/plain": [
       "63"
      ]
     },
     "execution_count": 29,
     "metadata": {},
     "output_type": "execute_result"
    }
   ],
   "source": [
    "presents[0][0][0]"
   ]
  },
  {
   "cell_type": "code",
   "execution_count": 52,
   "metadata": {},
   "outputs": [],
   "source": [
    "def clean_data_and_prepare_dictionary(input_= presents, output_= recalls):\n",
    "    data_dict = {'presentations' : [], 'recalls': [], 'presented_word_index':[], 'recall_word_index': [], 'recall_serial_pos': []}\n",
    "    for i in range(len(recalls)):\n",
    "        prs = presents[i]\n",
    "        recs = recalls[i]\n",
    "        #print(i)\n",
    "        if prs and recs:\n",
    "            if prs[0][0] == recs[0][0] and prs[0][1] == recs[0][1] and prs[0][3] == recs[0][3]:\n",
    "                Presentation = [item[5] for item in prs]\n",
    "                Recall = [item[5] for item in recs]\n",
    "                pres_word_index = [item[2] for item in prs]\n",
    "                recs_word_index = [item[2] for item in recs]\n",
    "                recs_word_posn = [item[4] for item in recs]\n",
    "\n",
    "                data_dict['presentations'].append(Presentation)\n",
    "                data_dict['recalls'].append(Recall)            \n",
    "                data_dict['presented_word_index'].append(pres_word_index)\n",
    "                data_dict['recall_word_index'].append(recs_word_index)            \n",
    "                data_dict['recall_serial_pos'].append(recs_word_posn)\n",
    "    return data_dict"
   ]
  },
  {
   "cell_type": "markdown",
   "metadata": {},
   "source": [
    "- Does empty recalls array refers to recall where zero words are recalled?\n",
    "- Do we have to consider list intrusions or not?"
   ]
  },
  {
   "cell_type": "code",
   "execution_count": 53,
   "metadata": {
    "scrolled": true
   },
   "outputs": [],
   "source": [
    "data_dict = clean_data_and_prepare_dictionary(presents, recalls)"
   ]
  },
  {
   "cell_type": "code",
   "execution_count": 59,
   "metadata": {},
   "outputs": [
    {
     "data": {
      "text/html": [
       "<div>\n",
       "<style scoped>\n",
       "    .dataframe tbody tr th:only-of-type {\n",
       "        vertical-align: middle;\n",
       "    }\n",
       "\n",
       "    .dataframe tbody tr th {\n",
       "        vertical-align: top;\n",
       "    }\n",
       "\n",
       "    .dataframe thead th {\n",
       "        text-align: right;\n",
       "    }\n",
       "</style>\n",
       "<table border=\"1\" class=\"dataframe\">\n",
       "  <thead>\n",
       "    <tr style=\"text-align: right;\">\n",
       "      <th></th>\n",
       "      <th>presentations</th>\n",
       "      <th>recalls</th>\n",
       "      <th>presented_word_index</th>\n",
       "      <th>recall_word_index</th>\n",
       "      <th>recall_serial_pos</th>\n",
       "    </tr>\n",
       "  </thead>\n",
       "  <tbody>\n",
       "    <tr>\n",
       "      <th>0</th>\n",
       "      <td>[INFANT, BUTCHER, MONUMENT, CORPORATION, APE, ...</td>\n",
       "      <td>[SHEET, CHEMICAL, WITNESS, BUTCHER, MONUMENT, ...</td>\n",
       "      <td>[737, 203, 913, 382, 31, 733, 1618, 391, 1171,...</td>\n",
       "      <td>[1279, 291, 1618, 203, 913, 737, 1258]</td>\n",
       "      <td>[15, 13, 6, 1, 2, 0, 9]</td>\n",
       "    </tr>\n",
       "    <tr>\n",
       "      <th>1</th>\n",
       "      <td>[ENGINEER, CASKET, FROST, FLEA, POSSUM, GERM, ...</td>\n",
       "      <td>[RUG, WIDOW, TERMINAL, CASKET]</td>\n",
       "      <td>[536, 255, 609, 577, 1112, 632, 825, 782, 1595...</td>\n",
       "      <td>[1215, 1608, 1450, 255]</td>\n",
       "      <td>[15, 13, 12, 1]</td>\n",
       "    </tr>\n",
       "    <tr>\n",
       "      <th>2</th>\n",
       "      <td>[SALESMAN, TECHNICIAN, CHISEL, SNEAKER, MOLECU...</td>\n",
       "      <td>[BEER, BARTENDER, CHISEL, BLUEPRINT, CABIN, TE...</td>\n",
       "      <td>[1225, 1443, 305, 1334, 905, 142, 211, 1635, 1...</td>\n",
       "      <td>[114, 92, 305, 142, 211, 1443, 1392, 905]</td>\n",
       "      <td>[14, 15, 2, 5, 6, 1, 9, 4]</td>\n",
       "    </tr>\n",
       "    <tr>\n",
       "      <th>3</th>\n",
       "      <td>[GAUZE, SCALPEL, CEMETERY, CIRCUS, CLERK, CRAD...</td>\n",
       "      <td>[KING, THRONE, ASSISTANT, BALCONY, SCALPEL, GA...</td>\n",
       "      <td>[626, 1243, 269, 311, 321, 399, 1605, 631, 110...</td>\n",
       "      <td>[777, 1461, 48, 72, 1243, 626]</td>\n",
       "      <td>[10, 13, 12, 15, 1, 16]</td>\n",
       "    </tr>\n",
       "    <tr>\n",
       "      <th>4</th>\n",
       "      <td>[BOOT, KEEPER, HALL, AIRPLANE, BEAN, BANANA, F...</td>\n",
       "      <td>[AIRPLANE, STEWARDESS, MEAL, GRILL, SCARF, FRU...</td>\n",
       "      <td>[150, 769, 677, 12, 105, 77, 610, 1246, 1046, ...</td>\n",
       "      <td>[12, 1381, 882, 661, 1246, 610, 77, 823, 1465,...</td>\n",
       "      <td>[3, 11, 15, 14, 7, 6, 5, 12, 9, 13]</td>\n",
       "    </tr>\n",
       "  </tbody>\n",
       "</table>\n",
       "</div>"
      ],
      "text/plain": [
       "                                       presentations  \\\n",
       "0  [INFANT, BUTCHER, MONUMENT, CORPORATION, APE, ...   \n",
       "1  [ENGINEER, CASKET, FROST, FLEA, POSSUM, GERM, ...   \n",
       "2  [SALESMAN, TECHNICIAN, CHISEL, SNEAKER, MOLECU...   \n",
       "3  [GAUZE, SCALPEL, CEMETERY, CIRCUS, CLERK, CRAD...   \n",
       "4  [BOOT, KEEPER, HALL, AIRPLANE, BEAN, BANANA, F...   \n",
       "\n",
       "                                             recalls  \\\n",
       "0  [SHEET, CHEMICAL, WITNESS, BUTCHER, MONUMENT, ...   \n",
       "1                     [RUG, WIDOW, TERMINAL, CASKET]   \n",
       "2  [BEER, BARTENDER, CHISEL, BLUEPRINT, CABIN, TE...   \n",
       "3  [KING, THRONE, ASSISTANT, BALCONY, SCALPEL, GA...   \n",
       "4  [AIRPLANE, STEWARDESS, MEAL, GRILL, SCARF, FRU...   \n",
       "\n",
       "                                presented_word_index  \\\n",
       "0  [737, 203, 913, 382, 31, 733, 1618, 391, 1171,...   \n",
       "1  [536, 255, 609, 577, 1112, 632, 825, 782, 1595...   \n",
       "2  [1225, 1443, 305, 1334, 905, 142, 211, 1635, 1...   \n",
       "3  [626, 1243, 269, 311, 321, 399, 1605, 631, 110...   \n",
       "4  [150, 769, 677, 12, 105, 77, 610, 1246, 1046, ...   \n",
       "\n",
       "                                   recall_word_index  \\\n",
       "0             [1279, 291, 1618, 203, 913, 737, 1258]   \n",
       "1                            [1215, 1608, 1450, 255]   \n",
       "2          [114, 92, 305, 142, 211, 1443, 1392, 905]   \n",
       "3                     [777, 1461, 48, 72, 1243, 626]   \n",
       "4  [12, 1381, 882, 661, 1246, 610, 77, 823, 1465,...   \n",
       "\n",
       "                     recall_serial_pos  \n",
       "0              [15, 13, 6, 1, 2, 0, 9]  \n",
       "1                      [15, 13, 12, 1]  \n",
       "2           [14, 15, 2, 5, 6, 1, 9, 4]  \n",
       "3              [10, 13, 12, 15, 1, 16]  \n",
       "4  [3, 11, 15, 14, 7, 6, 5, 12, 9, 13]  "
      ]
     },
     "execution_count": 59,
     "metadata": {},
     "output_type": "execute_result"
    }
   ],
   "source": [
    "data = pd.DataFrame.from_dict(data_dict)\n",
    "data.head()"
   ]
  },
  {
   "cell_type": "code",
   "execution_count": 60,
   "metadata": {},
   "outputs": [
    {
     "data": {
      "text/html": [
       "<div>\n",
       "<style scoped>\n",
       "    .dataframe tbody tr th:only-of-type {\n",
       "        vertical-align: middle;\n",
       "    }\n",
       "\n",
       "    .dataframe tbody tr th {\n",
       "        vertical-align: top;\n",
       "    }\n",
       "\n",
       "    .dataframe thead th {\n",
       "        text-align: right;\n",
       "    }\n",
       "</style>\n",
       "<table border=\"1\" class=\"dataframe\">\n",
       "  <thead>\n",
       "    <tr style=\"text-align: right;\">\n",
       "      <th></th>\n",
       "      <th>presentations</th>\n",
       "      <th>recalls</th>\n",
       "      <th>presented_word_index</th>\n",
       "      <th>recall_word_index</th>\n",
       "      <th>recall_serial_pos</th>\n",
       "    </tr>\n",
       "  </thead>\n",
       "  <tbody>\n",
       "    <tr>\n",
       "      <th>count</th>\n",
       "      <td>7921</td>\n",
       "      <td>7921</td>\n",
       "      <td>7921</td>\n",
       "      <td>7921</td>\n",
       "      <td>7921</td>\n",
       "    </tr>\n",
       "    <tr>\n",
       "      <th>unique</th>\n",
       "      <td>7921</td>\n",
       "      <td>7921</td>\n",
       "      <td>7921</td>\n",
       "      <td>7921</td>\n",
       "      <td>7886</td>\n",
       "    </tr>\n",
       "    <tr>\n",
       "      <th>top</th>\n",
       "      <td>[INFANT, BUTCHER, MONUMENT, CORPORATION, APE, ...</td>\n",
       "      <td>[SHEET, CHEMICAL, WITNESS, BUTCHER, MONUMENT, ...</td>\n",
       "      <td>[737, 203, 913, 382, 31, 733, 1618, 391, 1171,...</td>\n",
       "      <td>[1279, 291, 1618, 203, 913, 737, 1258]</td>\n",
       "      <td>[15, 14]</td>\n",
       "    </tr>\n",
       "    <tr>\n",
       "      <th>freq</th>\n",
       "      <td>1</td>\n",
       "      <td>1</td>\n",
       "      <td>1</td>\n",
       "      <td>1</td>\n",
       "      <td>6</td>\n",
       "    </tr>\n",
       "  </tbody>\n",
       "</table>\n",
       "</div>"
      ],
      "text/plain": [
       "                                            presentations  \\\n",
       "count                                                7921   \n",
       "unique                                               7921   \n",
       "top     [INFANT, BUTCHER, MONUMENT, CORPORATION, APE, ...   \n",
       "freq                                                    1   \n",
       "\n",
       "                                                  recalls  \\\n",
       "count                                                7921   \n",
       "unique                                               7921   \n",
       "top     [SHEET, CHEMICAL, WITNESS, BUTCHER, MONUMENT, ...   \n",
       "freq                                                    1   \n",
       "\n",
       "                                     presented_word_index  \\\n",
       "count                                                7921   \n",
       "unique                                               7921   \n",
       "top     [737, 203, 913, 382, 31, 733, 1618, 391, 1171,...   \n",
       "freq                                                    1   \n",
       "\n",
       "                             recall_word_index recall_serial_pos  \n",
       "count                                     7921              7921  \n",
       "unique                                    7921              7886  \n",
       "top     [1279, 291, 1618, 203, 913, 737, 1258]          [15, 14]  \n",
       "freq                                         1                 6  "
      ]
     },
     "execution_count": 60,
     "metadata": {},
     "output_type": "execute_result"
    }
   ],
   "source": [
    "data.describe()"
   ]
  },
  {
   "cell_type": "code",
   "execution_count": 63,
   "metadata": {},
   "outputs": [],
   "source": [
    "data.to_csv('trial_data.csv', index = False)"
   ]
  },
  {
   "cell_type": "code",
   "execution_count": null,
   "metadata": {},
   "outputs": [],
   "source": []
  }
 ],
 "metadata": {
  "kernelspec": {
   "display_name": "Python 3 (ipykernel)",
   "language": "python",
   "name": "python3"
  },
  "language_info": {
   "codemirror_mode": {
    "name": "ipython",
    "version": 3
   },
   "file_extension": ".py",
   "mimetype": "text/x-python",
   "name": "python",
   "nbconvert_exporter": "python",
   "pygments_lexer": "ipython3",
   "version": "3.9.7"
  }
 },
 "nbformat": 4,
 "nbformat_minor": 4
}
